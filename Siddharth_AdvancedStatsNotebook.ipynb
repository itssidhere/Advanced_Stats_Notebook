{
 "cells": [
  {
   "cell_type": "code",
   "execution_count": 2,
   "metadata": {},
   "outputs": [
    {
     "name": "stderr",
     "output_type": "stream",
     "text": [
      "\n",
      "Bad key \"text.kerning_factor\" on line 4 in\n",
      "D:\\Anaconda\\lib\\site-packages\\matplotlib\\mpl-data\\stylelib\\_classic_test_patch.mplstyle.\n",
      "You probably need to get an updated matplotlibrc file from\n",
      "http://github.com/matplotlib/matplotlib/blob/master/matplotlibrc.template\n",
      "or from the matplotlib source distribution\n"
     ]
    }
   ],
   "source": [
    "import pandas as pd\n",
    "import numpy as np\n",
    "import seaborn as sns\n",
    "from scipy.stats import bernoulli, poisson\n",
    "import matplotlib.pyplot as plt\n",
    "import math\n",
    "\n",
    "%matplotlib inline"
   ]
  },
  {
   "cell_type": "markdown",
   "metadata": {},
   "source": [
    "### Workbook Assignment 1: Basic probabilites & visualisations (1)"
   ]
  },
  {
   "cell_type": "markdown",
   "metadata": {},
   "source": [
    "#### Solution 1. A)"
   ]
  },
  {
   "cell_type": "markdown",
   "metadata": {},
   "source": [
    "#### As we know know there are only two outcomes in a Bernoulli trial. As given the P(vote = \"for\") = 0.87 so P(vote = \"against\") = 1 - 0.87"
   ]
  },
  {
   "cell_type": "code",
   "execution_count": 68,
   "metadata": {},
   "outputs": [
    {
     "name": "stdout",
     "output_type": "stream",
     "text": [
      "For 87.0 %\n",
      "Against 13.0 %\n"
     ]
    },
    {
     "data": {
      "image/png": "[encoded data removed]",
      "text/plain": [
       "<Figure size 720x432 with 1 Axes>"
      ]
     },
     "metadata": {
      "needs_background": "light"
     },
     "output_type": "display_data"
    }
   ],
   "source": [
    "#defining probabilities\n",
    "probFor = 0.87\n",
    "probAgainst = 1-0.87\n",
    "\n",
    "#Plotting the percentages\n",
    "fig = plt.figure(figsize=(10,6))\n",
    "\n",
    "#generating the random values with given probability\n",
    "data_bern = bernoulli.rvs(size=100,p=probFor)\n",
    "\n",
    "#converting the integer to for / againstb\n",
    "converterFunc = lambda x: 'For' if x == 1 else 'Against'\n",
    "data_bern = np.vectorize(converterFunc)(data_bern)\n",
    "\n",
    "#converting the np array to pandas dataframe for plotting\n",
    "df = pd.DataFrame({'Trial': data_bern})\n",
    "\n",
    "#plotting the data using sns.countplot()\n",
    "ax = sns.countplot(y=\"Trial\",data=df,palette=\"Set2\")\n",
    "\n",
    "\n",
    "ax.set(xlabel='Percentage', ylabel='Trial')\n",
    "print(\"For {} %\".format(probFor*100), \"Against {} %\".format(probAgainst*100),sep='\\n')\n",
    "\n",
    "plt.show()"
   ]
  },
  {
   "cell_type": "markdown",
   "metadata": {},
   "source": [
    "#### Calculating expectation"
   ]
  },
  {
   "cell_type": "code",
   "execution_count": 141,
   "metadata": {},
   "outputs": [
    {
     "data": {
      "text/plain": [
       "0.87"
      ]
     },
     "execution_count": 141,
     "metadata": {},
     "output_type": "execute_result"
    }
   ],
   "source": [
    "bernoulli.mean(probFor)"
   ]
  },
  {
   "cell_type": "markdown",
   "metadata": {},
   "source": [
    "#### Solution 1. B)"
   ]
  },
  {
   "cell_type": "code",
   "execution_count": 116,
   "metadata": {},
   "outputs": [],
   "source": [
    "# 𝜆 = 29\n",
    "mu = 29\n",
    "median, var = poisson.median(mu), poisson.var(mu)\n"
   ]
  },
  {
   "cell_type": "code",
   "execution_count": 119,
   "metadata": {},
   "outputs": [
    {
     "data": {
      "image/png": "[encoded data removed]",
      "text/plain": [
       "<Figure size 432x288 with 1 Axes>"
      ]
     },
     "metadata": {
      "needs_background": "light"
     },
     "output_type": "display_data"
    }
   ],
   "source": [
    "#pmf\n",
    "fig, ax = plt.subplots(1, 1)\n",
    "#get optimal k for pmf\n",
    "k = 0\n",
    "while poisson.pmf(k=k,mu=mu) < 0.005:\n",
    "    k+=1\n",
    "  \n",
    "x = np.arange(1,k)\n",
    "\n",
    "ax.plot(x, poisson.pmf(x, mu), 'bo', ms=8, label='poisson pmf')\n",
    "ax.vlines(x, 0, poisson.pmf(x, mu), colors='b', lw=5, alpha=0.4)\n",
    "ax.legend([\"Median={}\".format(median),\"Variance={}\".format(var)],loc=\"best\" )\n",
    "ax.set(xlabel=\"PMF\")\n",
    "plt.show()\n"
   ]
  },
  {
   "cell_type": "code",
   "execution_count": 131,
   "metadata": {},
   "outputs": [
    {
     "data": {
      "image/png": "[encoded data removed]",
      "text/plain": [
       "<Figure size 432x288 with 1 Axes>"
      ]
     },
     "metadata": {
      "needs_background": "light"
     },
     "output_type": "display_data"
    }
   ],
   "source": [
    "#cdf\n",
    "fig, ax = plt.subplots(1, 1)\n",
    "#get optimal k for cdf\n",
    "k = 0\n",
    "while poisson.cdf(k=k,mu=mu) < 0.005:\n",
    "    k+=1\n",
    "  \n",
    "x = np.arange(1,k)\n",
    "\n",
    "ax.plot(x, poisson.cdf(x, mu), 'c', ms=8, label='poisson pmf')\n",
    "ax.vlines(x, 0, poisson.cdf(x, mu), colors='aqua', lw=5, alpha=0.4)\n",
    "ax.legend([\"Median={}\".format(median),\"Variance={}\".format(var)],loc=\"best\" )\n",
    "ax.set(xlabel=\"CDF\")\n",
    "plt.show()"
   ]
  },
  {
   "cell_type": "markdown",
   "metadata": {},
   "source": [
    "#### Solution 1. C)"
   ]
  },
  {
   "cell_type": "code",
   "execution_count": 4,
   "metadata": {},
   "outputs": [
    {
     "name": "stdout",
     "output_type": "stream",
     "text": [
      "Probability that we need to wait between 2 and 4 hours = 0.23\n"
     ]
    }
   ],
   "source": [
    "cdf = lambda x : (0.7 * math.exp(-0.5 * x)) + (0.28 * math.exp(-0.25 * x))\n",
    "pdf = lambda x : (0.5 * 0.7 * math.exp(-0.5 * x)) + (0.25 * 0.28 * math.exp(-0.25 * x))\n",
    "\n",
    "probLessThanFour = (1-cdf(4))\n",
    "probLessThanTwo = (1-cdf(2))\n",
    "\n",
    "print('Probability that we need to wait between 2 and 4 hours = {:.2f}'.format(probLessThanFour -  probLessThanTwo) )\n"
   ]
  },
  {
   "cell_type": "code",
   "execution_count": 6,
   "metadata": {
    "scrolled": true
   },
   "outputs": [
    {
     "data": {
      "text/plain": [
       "<matplotlib.legend.Legend at 0x25e11256cc8>"
      ]
     },
     "execution_count": 6,
     "metadata": {},
     "output_type": "execute_result"
    },
    {
     "data": {
      "image/png": "[encoded data removed]",
      "text/plain": [
       "<Figure size 432x288 with 1 Axes>"
      ]
     },
     "metadata": {
      "needs_background": "light"
     },
     "output_type": "display_data"
    }
   ],
   "source": [
    "\n",
    "#plot of pdf\n",
    "x = np.arange(2,4,0.016) #intervals from 2 - 4 with 0.016hr/1 minute as interval\n",
    "y = np.vectorize(pdf)(x)\n",
    "\n",
    "dfTwoFour = pd.DataFrame({\"X\": x , \"Y\":y})\n",
    "\n",
    "fig, ax = plt.subplots(1, 1)\n",
    "\n",
    "ax.plot(x, y, 'bo', ms=8, label='pdf')\n",
    "ax.vlines(x, 0, y, colors='b', lw=5, alpha=0.4)\n",
    "\n",
    "metadata = dfTwoFour['Y'].describe()\n",
    "\n",
    "ax.legend(['Mean={:.2f}'.format(metadata['mean']),'Variance={:.4f}'.format(metadata['std']**2),  ])\n",
    "\n",
    "\n"
   ]
  },
  {
   "cell_type": "code",
   "execution_count": 194,
   "metadata": {},
   "outputs": [
    {
     "name": "stdout",
     "output_type": "stream",
     "text": [
      "count    13.000000\n",
      "mean      0.117064\n",
      "std       0.030952\n",
      "min       0.075572\n",
      "25%       0.092294\n",
      "50%       0.113071\n",
      "75%       0.138941\n",
      "max       0.171215\n",
      "Name: Y, dtype: float64\n"
     ]
    },
    {
     "data": {
      "image/png": "[encoded data removed]",
      "text/plain": [
       "<Figure size 432x288 with 1 Axes>"
      ]
     },
     "metadata": {
      "needs_background": "light"
     },
     "output_type": "display_data"
    }
   ],
   "source": [
    "print(metadata)\n",
    "#we can use the box plot to visualise the quartiles of the waiting time\n",
    "sns.boxplot(data=y)\n",
    "plt.show()"
   ]
  },
  {
   "cell_type": "markdown",
   "metadata": {},
   "source": [
    "### Workbook Assignment 2 : Basic probabilities & visualisations (2)"
   ]
  },
  {
   "cell_type": "markdown",
   "metadata": {},
   "source": [
    "#### Solution A"
   ]
  },
  {
   "cell_type": "code",
   "execution_count": 132,
   "metadata": {},
   "outputs": [],
   "source": [
    "#loading the data\n",
    "\n",
    "df = pd.DataFrame([[-0.088, 628.44] , [2.419, -524.8 ] , [-5.521, 512.98] , [ 0.951, 47.19 ] , [ -0.301,-708.95 ],\n",
    "                  [-2.104, 842.34], [-1.478, 863.46], [0.584,-789.16] , [0.376, -832.03] , [ 6.771, -449.46 ],\n",
    "                  [0.737, -286.69], [-5.713, 522.62] , [0.394, -168.06], [-7.655, 114.8], [-9.001,57.94],\n",
    "                  [5.431, 202.99], [-4.108, 909.44], [6.719, 824.1], [0.682, 40.95], [4.912,-241.1]\n",
    "                  ],columns=['X','Y'])"
   ]
  },
  {
   "cell_type": "code",
   "execution_count": 133,
   "metadata": {},
   "outputs": [
    {
     "data": {
      "text/plain": [
       "<matplotlib.axes._subplots.AxesSubplot at 0x1b63477c448>"
      ]
     },
     "execution_count": 133,
     "metadata": {},
     "output_type": "execute_result"
    },
    {
     "data": {
      "image/png": "[encoded data removed]",
      "text/plain": [
       "<Figure size 432x288 with 1 Axes>"
      ]
     },
     "metadata": {
      "needs_background": "light"
     },
     "output_type": "display_data"
    }
   ],
   "source": [
    "sns.scatterplot(data=df,x='X',y='Y')"
   ]
  },
  {
   "cell_type": "code",
   "execution_count": 134,
   "metadata": {},
   "outputs": [
    {
     "name": "stdout",
     "output_type": "stream",
     "text": [
      "X mean = -0.2996499999999998\n",
      "Y mean = 78.35000000000004\n"
     ]
    }
   ],
   "source": [
    "# to caluclate the sample covariance let's first calculate means/expectations\n",
    "\n",
    "x_mean = sum(df['X']) / 20\n",
    "y_mean = sum(df['Y']) / 20\n",
    "\n",
    "print('X mean = {}\\nY mean = {}'.format(x_mean,y_mean))"
   ]
  },
  {
   "cell_type": "code",
   "execution_count": 142,
   "metadata": {},
   "outputs": [
    {
     "data": {
      "text/plain": [
       "-695.312175263158"
      ]
     },
     "execution_count": 142,
     "metadata": {},
     "output_type": "execute_result"
    }
   ],
   "source": [
    "#calculate covariance\n",
    "def calc_cov(x,y):\n",
    "    return sum((x - x_mean) * (y-y_mean)) / 19\n",
    "\n",
    "calc_cov(df['X'],df['Y'])"
   ]
  },
  {
   "cell_type": "markdown",
   "metadata": {},
   "source": [
    "##### We can confirm the correctness of our covariance by pandas inbuilt method"
   ]
  },
  {
   "cell_type": "code",
   "execution_count": 136,
   "metadata": {},
   "outputs": [
    {
     "data": {
      "text/plain": [
       "-695.3121752631578"
      ]
     },
     "execution_count": 136,
     "metadata": {},
     "output_type": "execute_result"
    }
   ],
   "source": [
    "df.cov()['X']['Y']"
   ]
  },
  {
   "cell_type": "code",
   "execution_count": 137,
   "metadata": {},
   "outputs": [
    {
     "data": {
      "text/plain": [
       "{'x_var': 19.87, 'y_var': 331318.97}"
      ]
     },
     "execution_count": 137,
     "metadata": {},
     "output_type": "execute_result"
    }
   ],
   "source": [
    "def calc_var(x,y):\n",
    "    ans = {'x_var': 0 , 'y_var':0}\n",
    "    ans['x_var'] = round(sum((x - x_mean) ** 2)  / 19 , 2)\n",
    "    ans['y_var'] = round(sum((y - y_mean) ** 2)  / 19,2)\n",
    "    return ans\n",
    "    \n",
    "calc_var(df['X'],df['Y'])"
   ]
  },
  {
   "cell_type": "markdown",
   "metadata": {},
   "source": [
    "##### We can confirm the correctness of  varaince by pandas inbuilt method"
   ]
  },
  {
   "cell_type": "code",
   "execution_count": 138,
   "metadata": {},
   "outputs": [
    {
     "data": {
      "text/plain": [
       "X        19.870693\n",
       "Y    331318.974305\n",
       "dtype: float64"
      ]
     },
     "execution_count": 138,
     "metadata": {},
     "output_type": "execute_result"
    }
   ],
   "source": [
    "df.var()"
   ]
  }
 ],
 "metadata": {
  "kernelspec": {
   "display_name": "Python 3",
   "language": "python",
   "name": "python3"
  },
  "language_info": {
   "codemirror_mode": {
    "name": "ipython",
    "version": 3
   },
   "file_extension": ".py",
   "mimetype": "text/x-python",
   "name": "python",
   "nbconvert_exporter": "python",
   "pygments_lexer": "ipython3",
   "version": "3.7.10"
  }
 },
 "nbformat": 4,
 "nbformat_minor": 4
}
